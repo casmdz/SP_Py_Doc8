{
 "cells": [
  {
   "cell_type": "markdown",
   "id": "28ff2c6e",
   "metadata": {},
   "source": [
    "# Object Oriented Programming - Calculation of Rental Income "
   ]
  },
  {
   "cell_type": "markdown",
   "id": "73831490",
   "metadata": {},
   "source": [
    "Using Visual Studio Code/Jupyter Notebook, and Object Oriented Programming create a program that will calculate the Return on Investment(ROI) for a rental property."
   ]
  },
  {
   "cell_type": "markdown",
   "id": "5182c093",
   "metadata": {},
   "source": [
    "Please use all of the categories and sub-categories listed in the video."
   ]
  },
  {
   "cell_type": "markdown",
   "id": "d904a882",
   "metadata": {},
   "source": [
    "https://www.youtube.com/watch?v=T_7vhsSBi7c"
   ]
  },
  {
   "cell_type": "markdown",
   "id": "809c27e4",
   "metadata": {},
   "source": [
    "Analyzing the numbers of a rental property\n",
    "\n",
    "```\n",
    "     1 | 3\n",
    "-------|------\n",
    "     2 | 4\n",
    "       |\n",
    "```\n",
    "\n",
    "```\n",
    "Income  | cash flow\n",
    "--------|-------\n",
    "total   | cash on\n",
    "monthly | cash ROI\n",
    "income  |\n",
    "```"
   ]
  },
  {
   "cell_type": "markdown",
   "id": "beaf161e",
   "metadata": {},
   "source": [
    "__1 Income__\n",
    "- rental income == 2k /month\n",
    "- laundry, storage, misc == 0\n",
    "\n",
    " total monthly income == 2k"
   ]
  },
  {
   "cell_type": "markdown",
   "id": "6ed6734f",
   "metadata": {},
   "source": [
    "example\n",
    "\n",
    "duplex , each unit rents for 1000k\n",
    "purchase price 200,000k"
   ]
  },
  {
   "cell_type": "markdown",
   "id": "024ac042",
   "metadata": {},
   "source": [
    " __2 expenses__\n",
    "\n",
    "- Tax = 150\n",
    "- Insurance  = 100\n",
    "- Utilities  = 0 \n",
    "    - (electric,water, sewer, garbage, gas)\n",
    "    - either tenent or landlord pays\n",
    "- HOA fees  = 0\n",
    "- lawn/snow care  = 0\n",
    "- Vacancy  = 100\n",
    "- Repairs  = 100\n",
    "- CapEx  = 100\n",
    "    - (capital expenditures, big expenses)\n",
    "- Property management = 200\n",
    "- Mortgage  = 860\n",
    "\n",
    "        - biggerpockets. calc\n",
    "        \n",
    "total monthly expenses 1610k"
   ]
  },
  {
   "cell_type": "markdown",
   "id": "5043fd24",
   "metadata": {},
   "source": [
    "__3 cash flow__\n",
    "\n",
    "Income - expenses\n",
    "\n",
    "2000  - 1610 \n",
    "\n",
    "total monthly cash flow = 390\n",
    "\n",
    "is that a good amount? \n"
   ]
  },
  {
   "cell_type": "markdown",
   "id": "1eccd896",
   "metadata": {},
   "source": [
    "__4 cash on cash ROI__\n",
    "\n",
    "what percentage/ return on cash flow are you earning? \n",
    "\n",
    "\n",
    "- Down payment = 40000\n",
    "- Closing costs = 3000\n",
    "- Repair money/rehab budget = 7000\n",
    "- Misc = 0\n",
    "\n",
    "Total investment =  50000\n"
   ]
  },
  {
   "cell_type": "markdown",
   "id": "d4873f7d",
   "metadata": {},
   "source": [
    "390 x 12 = 4680 in annual cash flow\n",
    "\n",
    "cash on cash return = annual cash flow / total investment \n",
    "\n",
    "9.36% = 4680 / 50000"
   ]
  },
  {
   "cell_type": "code",
   "execution_count": null,
   "id": "2da3c83c",
   "metadata": {},
   "outputs": [],
   "source": []
  },
  {
   "cell_type": "code",
   "execution_count": 2,
   "id": "d5878351",
   "metadata": {},
   "outputs": [
    {
     "name": "stdout",
     "output_type": "stream",
     "text": [
      "Your total rental income per month is: 2000\n",
      "Your total expenses are $1610.\n",
      "Your monthly cashflow is $390.\n",
      "Your total investment in this property was $50000.\n",
      "\n",
      "So your cash on cash return comes out to: 9.36%!\n",
      "\n",
      "Are you satisfied with your investment? Yes\n",
      "\n",
      "Great! Thanks for using this calculator program\n"
     ]
    }
   ],
   "source": [
    "from IPython.display import clear_output\n",
    "\n",
    "class ROICalc:\n",
    "    def __init__(self):\n",
    "        self.roi = 0\n",
    "\n",
    "    def incomeCalc(self):\n",
    "        rental_cost = int(input('Monthly rental cost: '))\n",
    "        laundry = int(input('Monthly laundry services cost: '))\n",
    "        storage = int(input('Monthly storage costs: ')) \n",
    "        misc = int(input('Monthly miscellaneous costs: '))\n",
    "        total_rental_income = rental_cost + laundry + storage + misc\n",
    "        return total_rental_income\n",
    "\n",
    "    def expensesCalc(self, total_rental_income):\n",
    "        #clear_output()\n",
    "        print(f'Your total rental income is ${total_rental_income}.')\n",
    "        tax = int(input('Monthly tax: '))\n",
    "        insurance = int(input('Monthly insurance cost: '))\n",
    "        utilities = int(input('Monthly utilities cost: '))\n",
    "        HOA_fees = int(input('Monthly HOA fees: '))\n",
    "        grounds_care = int(input('Monthly lawn or snow care cost: '))\n",
    "        vacancy = int(input('Monthly cost of vacancy: '))\n",
    "        repairs = int(input('Monthly repairs cost: '))\n",
    "        capex = int(input('Monthly Capital expenditures: '))\n",
    "        management = int(input('Monthly property management bill: '))\n",
    "        mortgage = int(input('Monthly mortgage cost: '))\n",
    "        total_expenses = tax + insurance+ utilities + HOA_fees+ grounds_care+ vacancy+ repairs+capex + management + mortgage \n",
    "        print(f'Your total expenses are ${total_expenses}.\\n')\n",
    "        return total_expenses\n",
    "\n",
    "    def cashFlowCalc(self, total_rental_income, total_expenses):\n",
    "        #clear_output()\n",
    "        print(f'Your total rental income is: {total_rental_income}')\n",
    "        print(f'Your total expenses are ${total_expenses}.\\n')\n",
    "        monthly_cashflow = total_rental_income - total_expenses\n",
    "        print(f'Your monthly cashflow is ${monthly_cashflow}')\n",
    "        return monthly_cashflow\n",
    "\n",
    "    def cashOnCashCalc(self, total_rental_income, total_expenses, monthly_cashflow):\n",
    "#         clear_output()\n",
    "#         print(f'Your total rental income is: {total_rental_income}')\n",
    "#         print(f'Your total expenses are ${total_expenses}.')\n",
    "#         print(f'Your monthly cashflow is ${monthly_cashflow} \\n')\n",
    "        down_payment = int(input(\"Your total downpayment: \"))\n",
    "        closing_costs = int(input('Total closing costs: '))\n",
    "        repair= int(input('Repair budget: '))\n",
    "        misc = int(input('Monthly miscellaneous costs: '))\n",
    "        total_investment = down_payment + closing_costs +repair +misc\n",
    "        annual_cashflow = monthly_cashflow * 12\n",
    "        cc_return = (annual_cashflow / total_investment) * 100\n",
    "        clear_output()\n",
    "        print(f'Your total rental income per month is: {total_rental_income}')\n",
    "        print(f'Your total expenses are ${total_expenses}.')\n",
    "        print(f'Your monthly cashflow is ${monthly_cashflow}.')\n",
    "        print(f'Your total investment in this property was ${total_investment}.\\n')\n",
    "        print(f'So your cash on cash return comes out to: {cc_return}%!')\n",
    "        satisfaction = input('\\nAre you satisfied with your investment? ')\n",
    "        if satisfaction.lower() == 'yes':\n",
    "            print('\\nGreat! Thanks for using this calculator program')\n",
    "        else:\n",
    "            print('\\nSorry to hear that.')\n",
    "\n",
    "def runROI():\n",
    "    calculator = ROICalc() \n",
    "    total_rental_income = calculator.incomeCalc()\n",
    "    total_expenses = calculator.expensesCalc(total_rental_income)\n",
    "    monthly_cashflow = calculator.cashFlowCalc(total_rental_income, total_expenses)\n",
    "    calculator.cashOnCashCalc(total_rental_income, total_expenses, monthly_cashflow)\n",
    "\n",
    "\n",
    "runROI()\n"
   ]
  },
  {
   "cell_type": "code",
   "execution_count": null,
   "id": "692a6e48",
   "metadata": {},
   "outputs": [],
   "source": []
  },
  {
   "cell_type": "code",
   "execution_count": null,
   "id": "34b1b0d8",
   "metadata": {},
   "outputs": [],
   "source": []
  }
 ],
 "metadata": {
  "kernelspec": {
   "display_name": "Python 3 (ipykernel)",
   "language": "python",
   "name": "python3"
  },
  "language_info": {
   "codemirror_mode": {
    "name": "ipython",
    "version": 3
   },
   "file_extension": ".py",
   "mimetype": "text/x-python",
   "name": "python",
   "nbconvert_exporter": "python",
   "pygments_lexer": "ipython3",
   "version": "3.9.13"
  }
 },
 "nbformat": 4,
 "nbformat_minor": 5
}
